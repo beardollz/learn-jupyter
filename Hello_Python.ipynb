{
 "cells": [
  {
   "cell_type": "code",
   "execution_count": 1,
   "metadata": {
    "collapsed": false
   },
   "outputs": [
    {
     "data": {
      "text/plain": [
       "75"
      ]
     },
     "execution_count": 1,
     "metadata": {},
     "output_type": "execute_result"
    }
   ],
   "source": [
    "25*3"
   ]
  },
  {
   "cell_type": "code",
   "execution_count": 3,
   "metadata": {
    "collapsed": false
   },
   "outputs": [
    {
     "name": "stdout",
     "output_type": "stream",
     "text": [
      "My Name Is Min\n"
     ]
    }
   ],
   "source": [
    "print (\"My Name Is Min\")"
   ]
  },
  {
   "cell_type": "markdown",
   "metadata": {},
   "source": [
    "# หัวข้อใหญ่\n",
    "##  หัวข้อรองมี 2-6 เครื่องหมายสี่เหลี่ยม\n",
    "\n",
    "ข้อความทั่วไปก็พิมพ์ไปได้เลย เว้น 1 บรรทัดทุกท้ายย่อหน้าด้วย\n",
    "\n",
    "ถ้าอยากได้ตัวหนา __ก็ทำอย่างนี้__ แล้วก็ _ ทำแบบนี้_ กับตัวเอียง\n",
    "\n",
    "หัวเรื่องก็ทำได้\n",
    "* รายข้อ\n",
    "* รายข้อ\n",
    "    1. ลำดับ\n",
    "    2. ลำดับ\n",
    "\n",
    "```python\n",
    "print(\"Hello วิชาไพธอน\")\n",
    "```\n",
    "\n",
    "อยากเก่งต้องทำไง?\n",
    "> อยากเก่งต้องฝึก\n",
    "\n",
    "This is an[an example](http://example.com/\"Title\") inline link.\n",
    "\n",
    "![logo](https://seeklogo.com/vector-logo/263697/dota-2)\n"
   ]
  },
  {
   "cell_type": "code",
   "execution_count": 43,
   "metadata": {
    "collapsed": false
   },
   "outputs": [
    {
     "name": "stdout",
     "output_type": "stream",
     "text": [
      "its Double\n"
     ]
    }
   ],
   "source": [
    "rand_number = 35\n",
    "\n",
    "if(rand_number%2.00 ==0):\n",
    "    print('its Double')\n",
    "else:\n",
    "    print('its Tri')"
   ]
  },
  {
   "cell_type": "code",
   "execution_count": 63,
   "metadata": {
    "collapsed": false
   },
   "outputs": [
    {
     "name": "stdout",
     "output_type": "stream",
     "text": [
      "37.5\n",
      "100.76\n"
     ]
    }
   ],
   "source": [
    "#Tempature Converter\n",
    "t1 = 99.5\n",
    "t2 = 38.2\n",
    "\n",
    "celsius = (t1 - 32)*5/9\n",
    "\n",
    "print(celsius)\n",
    "\n",
    "fahnrenheit =(1.8*t2)+32\n",
    "\n",
    "print(fahnrenheit)\n"
   ]
  },
  {
   "cell_type": "code",
   "execution_count": 93,
   "metadata": {
    "collapsed": false
   },
   "outputs": [
    {
     "name": "stdout",
     "output_type": "stream",
     "text": [
      "26.073619631901842\n"
     ]
    }
   ],
   "source": [
    "#BMI Calculator (Metric)\n",
    "#BMI = weight (kg) / height(m)^2\n",
    "\n",
    "body_weight = 85 #kg.\n",
    "height = 1.63 # m.\n",
    "\n",
    "bmi_score = body_weight/(height*2)\n",
    "print (bmi_score)\n"
   ]
  },
  {
   "cell_type": "code",
   "execution_count": 86,
   "metadata": {
    "collapsed": false
   },
   "outputs": [
    {
     "name": "stdout",
     "output_type": "stream",
     "text": [
      "[1, 2, 3, 4, 5]\n",
      "[1, 2, 3]\n"
     ]
    }
   ],
   "source": [
    "list1 =[1,2,3,4,5]\n",
    "print (list1)\n",
    "print (list1 [:3])"
   ]
  },
  {
   "cell_type": "code",
   "execution_count": 94,
   "metadata": {
    "collapsed": false
   },
   "outputs": [
    {
     "ename": "SyntaxError",
     "evalue": "invalid syntax (<ipython-input-94-b1a522c86d5d>, line 1)",
     "output_type": "error",
     "traceback": [
      "\u001b[0;36m  File \u001b[0;32m\"<ipython-input-94-b1a522c86d5d>\"\u001b[0;36m, line \u001b[0;32m1\u001b[0m\n\u001b[0;31m    dict1 = {'name'':'min','age':25,'mobile'':'0845252230'}\u001b[0m\n\u001b[0m                        ^\u001b[0m\n\u001b[0;31mSyntaxError\u001b[0m\u001b[0;31m:\u001b[0m invalid syntax\n"
     ]
    }
   ],
   "source": [
    "dict1 = {'name'':'min','age':25,'mobile'':'0845252230'}\n",
    "print (dict1{'name'})"
   ]
  },
  {
   "cell_type": "code",
   "execution_count": 103,
   "metadata": {
    "collapsed": false
   },
   "outputs": [
    {
     "name": "stdout",
     "output_type": "stream",
     "text": [
      "00003.3333\n"
     ]
    }
   ],
   "source": [
    "value = 10/3.0\n",
    "print ('{:010.4f}'.format(value))"
   ]
  },
  {
   "cell_type": "code",
   "execution_count": null,
   "metadata": {
    "collapsed": true
   },
   "outputs": [],
   "source": []
  }
 ],
 "metadata": {
  "kernelspec": {
   "display_name": "Python 3",
   "language": "python",
   "name": "python3"
  },
  "language_info": {
   "codemirror_mode": {
    "name": "ipython",
    "version": 3
   },
   "file_extension": ".py",
   "mimetype": "text/x-python",
   "name": "python",
   "nbconvert_exporter": "python",
   "pygments_lexer": "ipython3",
   "version": "3.5.3"
  }
 },
 "nbformat": 4,
 "nbformat_minor": 2
}
